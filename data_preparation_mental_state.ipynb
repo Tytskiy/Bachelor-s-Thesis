{
 "cells": [
  {
   "cell_type": "code",
   "execution_count": 5,
   "id": "260bb1c9-50d3-4e6d-b9cc-f05049a8dd94",
   "metadata": {},
   "outputs": [],
   "source": [
    "import numpy as np\n",
    "import pandas as pd\n",
    "import glob\n",
    "import os"
   ]
  },
  {
   "cell_type": "code",
   "execution_count": 6,
   "id": "c1a1bdf7-d345-4d29-80f3-0307934bb9d6",
   "metadata": {},
   "outputs": [],
   "source": [
    "DIR = \"./data/EEG_mental_state/dataset/original_data/*\""
   ]
  },
  {
   "cell_type": "code",
   "execution_count": 16,
   "id": "3ff02252-9aa1-4a6b-9fdd-185dc2fae7d4",
   "metadata": {},
   "outputs": [],
   "source": [
    "N = 100\n",
    "f = {\"relaxed\": 1, \"concentrating\" : -1, \"neutral\" : 0}\n",
    "Y = []\n",
    "X = []\n",
    "\n",
    "for file in glob.glob(DIR):\n",
    "    data = pd.read_csv(file).to_numpy()\n",
    "    i = 0\n",
    "    while(data.shape[0]>=(i+1)*N):\n",
    "        Y.append(os.path.basename(file).split(\"-\")[1])\n",
    "        X.append(data[i*N:(i+1)*N, 1:])\n",
    "        i+=1\n",
    "    "
   ]
  },
  {
   "cell_type": "code",
   "execution_count": 17,
   "id": "c098de32-c31e-4c6c-ac66-e559d97e56b0",
   "metadata": {},
   "outputs": [
    {
     "data": {
      "text/plain": [
       "(array([ 1,  1,  1, ..., -1, -1, -1]), (3342,))"
      ]
     },
     "execution_count": 17,
     "metadata": {},
     "output_type": "execute_result"
    }
   ],
   "source": [
    "Y = np.array([f[elem] for elem in Y])\n",
    "Y, Y.shape"
   ]
  },
  {
   "cell_type": "code",
   "execution_count": 18,
   "id": "8141a1e5-d9ea-444c-bbbc-d46b2ae56a59",
   "metadata": {},
   "outputs": [
    {
     "data": {
      "text/plain": [
       "(3342, 100, 5)"
      ]
     },
     "execution_count": 18,
     "metadata": {},
     "output_type": "execute_result"
    }
   ],
   "source": [
    "X = np.array(X)\n",
    "X.shape"
   ]
  },
  {
   "cell_type": "code",
   "execution_count": 19,
   "id": "e5e48176-1274-43ff-8ae5-0ed305295181",
   "metadata": {},
   "outputs": [],
   "source": [
    "np.save(\"./data/EEG_mental_state/dataset/X_train.npy\", X)\n",
    "np.save(\"./data/EEG_mental_state/dataset/Y_train.npy\", Y)"
   ]
  },
  {
   "cell_type": "code",
   "execution_count": null,
   "id": "c3ad7dac-faf5-49a6-b85f-41204172643e",
   "metadata": {},
   "outputs": [],
   "source": []
  }
 ],
 "metadata": {
  "kernelspec": {
   "display_name": "Python 3 (ipykernel)",
   "language": "python",
   "name": "python3"
  },
  "language_info": {
   "codemirror_mode": {
    "name": "ipython",
    "version": 3
   },
   "file_extension": ".py",
   "mimetype": "text/x-python",
   "name": "python",
   "nbconvert_exporter": "python",
   "pygments_lexer": "ipython3",
   "version": "3.8.12"
  }
 },
 "nbformat": 4,
 "nbformat_minor": 5
}
